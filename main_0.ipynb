{
 "cells": [
  {
   "cell_type": "markdown",
   "metadata": {},
   "source": [
    "# Python for Meteorology, Oceanography, and Climate\n",
    "\n",
    "This workshop aims to introduce participants to the powerful Python programming language and its diverse applications in Earth Sciences, with a focus on meteorology, oceanography, and climate. \n",
    "Throughout the workshop, participants will have the opportunity to:\n",
    " - Explore Data Manipulation: Utilize Python to collect, clean, transform, and organize meteorological, oceanographic, and climate data.\n",
    " - Efficient Data Analysis: Employ the Pandas library to work with large datasets and perform statistical analyses.\n",
    " - Clear and Concise Data Visualization: Create custom graphs and maps using the Matplotlib library to communicate research findings effectively.\n",
    " - Perform Numerical Calculations: Use the NumPy library for complex mathematical operations and numerical simulations.\n",
    "\n",
    "By the end of the workshop, participants will be able to:\n",
    " - Write Python scripts to automate tasks and efficiently analyze data.\n",
    " - Visualize and interpret data.\n",
    " - Independently develop research and data analysis projects.\n",
    "\n",
    "## Target Audience:\n",
    "\n",
    "Undergraduate and graduate students, researchers, and professionals in the fields of meteorology, oceanography, climate, and Earth sciences in general, who wish to enhance their programming and data analysis skills.\n",
    "\n",
    "## Prerequisites:\n",
    "\n",
    "1. Basic computer skills and an interest in learning programming.\n",
    "2. Anaconda with the latest python, pandas, numpy, matplotlib, and jupyterlab 4.3.5 .\n",
    "\n",
    "## Workshop Content:\n",
    "\n",
    "1. Python Fundamentals:\n",
    "\t- Environment\n",
    "\t- Basic programming\n",
    "\t- Data types\n",
    "2. Data Manipulation with Pandas:\n",
    "\t- Reading and writing data\n",
    "\t- Data cleaning and preprocessing\n",
    "\t- Data exploration and analysis (statistical summary)\n",
    "\t- Data filtering, sorting, and grouping\n",
    "3. Data Visualization with Matplotlib:\n",
    "\t- Basic plotting (line plots, scatter plots, histograms)\n",
    "\t- Creating maps (basemaps, geographic projections)\n",
    "\t- Customizing plots (colors, markers, labels)\n",
    "4. Numerical Analysis with NumPy:\n",
    "\t- Array operations (creation, indexing, slicing)\n",
    "\t- Linear algebra operations (matrix multiplication, inversion).\n",
    "\t- Numerical integration and differentiation.\n",
    "5. Practical Example"
   ]
  },
  {
   "cell_type": "markdown",
   "metadata": {},
   "source": [
    "## Python Fundamentals"
   ]
  },
  {
   "cell_type": "markdown",
   "metadata": {},
   "source": [
    "### Environment\n",
    "\n",
    "A Python environment, often referred to as a virtual environment, is an isolated directory containing a specific Python interpreter and its associated packages. It allows you to manage dependencies for a particular project independently of other Python projects and the system-wide Python installation.\n",
    "\n",
    "**Key Characteristics:**\n",
    "\n",
    "* **Isolation:** Environments provide isolation, preventing conflicts between different project dependencies. Changes made within one environment do not affect other environments or the system Python installation.\n",
    "* **Dependency Management:** Environments enable you to install and manage specific versions of Python packages required for a project. This ensures that the project runs consistently regardless of the system's installed packages.\n",
    "* **Reproducibility:** By specifying the exact versions of packages used in a project's environment, you can recreate the same environment on different machines, ensuring consistent behavior.\n",
    "* **Project-Specific Packages:** Each environment can have its own set of installed packages, tailored to the needs of the project it serves.\n",
    "* **Interpreter Isolation:** virtual environments can also be used to test code against multiple Python versions.\n",
    "\n",
    "**Common Tools for Creating Python Environments:**\n",
    "\n",
    "* `venv` (built-in module in Python 3.3+): A lightweight and efficient tool for creating virtual environments.\n",
    "* `virtualenv` (third-party package): A more feature-rich tool that supports older Python versions.\n",
    "* `conda` (part of Anaconda distribution): A cross-platform package and environment manager, often used in data science and scientific computing.\n",
    "* `pipenv`: A tool that combines package management and virtual environment creation.\n",
    "\n",
    "**Why use Python Environments?**\n",
    "\n",
    "* Avoid dependency conflicts between projects.\n",
    "* Ensure consistent project behavior across different machines.\n",
    "* Simplify project deployment by specifying required dependencies.\n",
    "* Test code with different Python versions.\n",
    "* Keep your system python installation clean.\n",
    "\n",
    "**Example**\n",
    "\n",
    "```bash\n",
    "python3 -m venv venv\n",
    "source venv/bin/activate\n",
    "pip install -r requirements.txt --upgrade\n",
    "```"
   ]
  },
  {
   "cell_type": "markdown",
   "metadata": {},
   "source": [
    "### Basic programming"
   ]
  },
  {
   "cell_type": "markdown",
   "metadata": {},
   "source": [
    "#### Printing\n",
    "\n",
    "The `print()` function is fundamental for displaying information to the console."
   ]
  },
  {
   "cell_type": "code",
   "execution_count": 21,
   "metadata": {},
   "outputs": [
    {
     "name": "stdout",
     "output_type": "stream",
     "text": [
      "This is a string.\n"
     ]
    }
   ],
   "source": [
    "# String\n",
    "s = \"This is a string.\"\n",
    "print(f'{s}')"
   ]
  },
  {
   "cell_type": "markdown",
   "metadata": {},
   "source": [
    "#### Conditionals\n",
    "\n",
    "Conditional statements allow you to execute different blocks of code based on whether certain conditions are true or false."
   ]
  },
  {
   "cell_type": "code",
   "execution_count": 22,
   "metadata": {},
   "outputs": [
    {
     "name": "stdout",
     "output_type": "stream",
     "text": [
      "x is positive\n",
      "You'll get wet!\n"
     ]
    }
   ],
   "source": [
    "x = 10\n",
    "\n",
    "if x > 0:\n",
    "    print(\"x is positive\")\n",
    "elif x < 0:\n",
    "    print(\"x is negative\")\n",
    "else:\n",
    "    print(\"x is zero\")\n",
    "\n",
    "# Example with boolean logic\n",
    "is_raining = True\n",
    "has_umbrella = False\n",
    "\n",
    "if is_raining and has_umbrella:\n",
    "    print(\"You're safe from the rain.\")\n",
    "elif is_raining and not has_umbrella:\n",
    "    print(\"You'll get wet!\")\n",
    "else:\n",
    "    print(\"Enjoy the weather!\")"
   ]
  },
  {
   "cell_type": "markdown",
   "metadata": {},
   "source": [
    "#### Loops\n",
    "\n",
    "Loops allow you to repeat a block of code multiple times.\n",
    "\n",
    "`for` loops are used to iterate over a sequence (e.g., a list, tuple, string, or range).\n",
    "\n",
    "`while` loops repeat a block of code as long as a certain condition is true.\n",
    "\n",
    "**Loop Control Statements:**\n",
    "- `break`: Terminates the loop immediately.\n",
    "- `continue`: Skips the current iteration and continues with the next one.\n",
    "- `pass`: acts as a placeholder when a statement is syntactically required but you don't want any code to execute."
   ]
  },
  {
   "cell_type": "code",
   "execution_count": 23,
   "metadata": {},
   "outputs": [
    {
     "name": "stdout",
     "output_type": "stream",
     "text": [
      "apple\n",
      "banana\n",
      "cherry\n",
      "0\n",
      "1\n",
      "2\n",
      "3\n",
      "4\n",
      "2\n",
      "3\n",
      "4\n",
      "5\n",
      "0\n",
      "2\n",
      "4\n",
      "6\n",
      "8\n",
      "P\n",
      "y\n",
      "t\n",
      "h\n",
      "o\n",
      "n\n"
     ]
    }
   ],
   "source": [
    "# Iterating over a list\n",
    "fruits = [\"apple\", \"banana\", \"cherry\"]\n",
    "for fruit in fruits:\n",
    "    print(fruit)\n",
    "\n",
    "# Iterating over a range of numbers\n",
    "for i in range(5):  # Generates numbers from 0 to 4\n",
    "    print(i)\n",
    "\n",
    "# Iterating with a start and end value\n",
    "for i in range(2, 6): #generates numbers from 2 to 5\n",
    "    print(i)\n",
    "\n",
    "#Iterating with a start, end, and step value\n",
    "for i in range(0, 10, 2): #generates numbers from 0 to 8, incrementing by 2.\n",
    "    print(i)\n",
    "\n",
    "#Iterating over a string\n",
    "for char in \"Python\":\n",
    "    print(char)"
   ]
  },
  {
   "cell_type": "code",
   "execution_count": 24,
   "metadata": {},
   "outputs": [
    {
     "name": "stdout",
     "output_type": "stream",
     "text": [
      "0\n",
      "1\n",
      "2\n",
      "3\n",
      "4\n"
     ]
    }
   ],
   "source": [
    "count = 0\n",
    "while count < 5:\n",
    "    print(count)\n",
    "    count += 1"
   ]
  },
  {
   "cell_type": "markdown",
   "metadata": {},
   "source": [
    "#### Data types\n",
    "\n",
    "Python provides several built-in data types that are fundamental for storing and manipulating data. This exposition covers the most common basic data types: integers, floats, strings, booleans, lists, tuples, and dictionaries.\n",
    "\n",
    "**1. Numeric Types**\n",
    "\n",
    "**Integer(`int`)**\n",
    "\n",
    "Integers represent whole numbers, both positive and negative, without any decimal points.\n"
   ]
  },
  {
   "cell_type": "code",
   "execution_count": 25,
   "metadata": {},
   "outputs": [
    {
     "name": "stdout",
     "output_type": "stream",
     "text": [
      "<class 'int'>\n"
     ]
    }
   ],
   "source": [
    "x = 10\n",
    "y = -5\n",
    "z = 0\n",
    "print(type(x))  # Output: <class 'int'>"
   ]
  },
  {
   "cell_type": "markdown",
   "metadata": {},
   "source": [
    "**Float(`float`)**\n",
    "\n",
    "Floats represent real numbers with decimal points. They can also represent numbers in scientific notation."
   ]
  },
  {
   "cell_type": "code",
   "execution_count": 26,
   "metadata": {},
   "outputs": [
    {
     "name": "stdout",
     "output_type": "stream",
     "text": [
      "<class 'float'>\n"
     ]
    }
   ],
   "source": [
    "pi = 3.14159\n",
    "temperature = 98.6\n",
    "scientific_number = 1.23e-4  # 1.23 x 10^-4\n",
    "print(type(pi))  # Output: <class 'float'>"
   ]
  },
  {
   "cell_type": "markdown",
   "metadata": {},
   "source": [
    "**2. Text Type: Strings (`str`)**\n",
    "\n",
    "Strings represent sequences of characters. They are enclosed in single quotes `('...')`, double quotes `(\"...\")`, or triple quotes `('''...''' or \"\"\"...\"\"\")`."
   ]
  },
  {
   "cell_type": "code",
   "execution_count": 27,
   "metadata": {},
   "outputs": [
    {
     "name": "stdout",
     "output_type": "stream",
     "text": [
      "<class 'str'>\n"
     ]
    }
   ],
   "source": [
    "name = \"Alice\"\n",
    "message = 'Hello, world!'\n",
    "multiline_string = \"\"\"This is a\n",
    "multiline string.\"\"\"\n",
    "print(type(name))  # Output: <class 'str'>"
   ]
  },
  {
   "cell_type": "markdown",
   "metadata": {},
   "source": [
    "**3. Boolean Type: Booleans (`bool`)**\n",
    "\n",
    "Booleans represent truth values: `True` or `False`. They are often used in conditional statements and logical operations."
   ]
  },
  {
   "cell_type": "code",
   "execution_count": 28,
   "metadata": {},
   "outputs": [
    {
     "name": "stdout",
     "output_type": "stream",
     "text": [
      "<class 'bool'>\n"
     ]
    }
   ],
   "source": [
    "is_raining = True\n",
    "is_sunny = False\n",
    "print(type(is_raining))  # Output: <class 'bool'>"
   ]
  },
  {
   "cell_type": "markdown",
   "metadata": {},
   "source": [
    "**4. Sequence Types**\n",
    "\n",
    "**Lists(`list`)**\n",
    "Lists are ordered, mutable sequences of items. They are enclosed in square brackets (`[...]`) and can contain items of different data types."
   ]
  },
  {
   "cell_type": "code",
   "execution_count": 29,
   "metadata": {},
   "outputs": [
    {
     "name": "stdout",
     "output_type": "stream",
     "text": [
      "<class 'list'>\n",
      "1\n",
      "\n",
      "10\n",
      "2\n",
      "three\n",
      "4.5\n",
      "[6, 7]\n"
     ]
    }
   ],
   "source": [
    "my_list = [1, 2, \"three\", 4.5, [6, 7]]\n",
    "print(type(my_list))  # Output: <class 'list'>\n",
    "print(my_list[0]) #Access the first element.\n",
    "my_list[0] = 10 #Lists are mutable.\n",
    "\n",
    "print()\n",
    "for e in my_list:\n",
    "    print(e)"
   ]
  },
  {
   "cell_type": "markdown",
   "metadata": {},
   "source": [
    "**Tuples (`tuple`)**\n",
    "\n",
    "Tuples are ordered, immutable sequences of items. They are enclosed in parentheses (`(...)`) and can also contain items of different data types."
   ]
  },
  {
   "cell_type": "code",
   "execution_count": 30,
   "metadata": {},
   "outputs": [
    {
     "name": "stdout",
     "output_type": "stream",
     "text": [
      "<class 'tuple'>\n",
      "1\n"
     ]
    }
   ],
   "source": [
    "my_tuple = (1, 2, \"three\", 4.5)\n",
    "print(type(my_tuple))  # Output: <class 'tuple'>\n",
    "print(my_tuple[0]) #Access the first element.\n",
    "#my_tuple[0] = 10 #Tuples are immutable, this line would cause an error."
   ]
  },
  {
   "cell_type": "markdown",
   "metadata": {},
   "source": [
    "**5. Mapping Type: Dictionaries (`dict`)**\n",
    "\n",
    "Dictionaries are unordered collections of key-value pairs. _Keys_ must be unique and immutable (e.g., strings, numbers, or tuples), while _Values_ can be of any data type. Dictionaries are enclosed in curly braces (`{...}`)."
   ]
  },
  {
   "cell_type": "code",
   "execution_count": 31,
   "metadata": {},
   "outputs": [
    {
     "name": "stdout",
     "output_type": "stream",
     "text": [
      "<class 'dict'>\n",
      "Bob\n"
     ]
    }
   ],
   "source": [
    "my_dict = {\"name\": \"Bob\", \"age\": 30, \"city\": \"New York\"}\n",
    "print(type(my_dict))  # Output: <class 'dict'>\n",
    "print(my_dict[\"name\"]) #Access a value by its key.\n",
    "my_dict[\"age\"] = 31 #Dictionaries are mutable."
   ]
  },
  {
   "cell_type": "markdown",
   "metadata": {},
   "source": [
    "**Data Type Conversion**\n",
    "\n",
    "Python provides built-in functions to convert between different data types."
   ]
  },
  {
   "cell_type": "code",
   "execution_count": 32,
   "metadata": {},
   "outputs": [
    {
     "name": "stdout",
     "output_type": "stream",
     "text": [
      "<class 'str'>\n",
      "<class 'int'>\n",
      "<class 'float'>\n",
      "<class 'str'>\n"
     ]
    }
   ],
   "source": [
    "num_str = \"123\"\n",
    "num_int = int(num_str)  # Convert string to integer\n",
    "num_float = float(num_int)  # Convert integer to float\n",
    "str_float = str(num_float) #Convert float to string.\n",
    "\n",
    "print(type(num_str))\n",
    "print(type(num_int))\n",
    "print(type(num_float))\n",
    "print(type(str_float))"
   ]
  },
  {
   "cell_type": "markdown",
   "metadata": {},
   "source": [
    "## Data Manipulation with Pandas"
   ]
  },
  {
   "cell_type": "markdown",
   "metadata": {},
   "source": [
    "## Data Visualization with Matplotlib"
   ]
  },
  {
   "cell_type": "markdown",
   "metadata": {},
   "source": [
    "## Numerical Analysis with NumPy"
   ]
  },
  {
   "cell_type": "markdown",
   "metadata": {},
   "source": [
    "## Practical Example"
   ]
  }
 ],
 "metadata": {
  "kernelspec": {
   "display_name": "venv",
   "language": "python",
   "name": "python3"
  },
  "language_info": {
   "codemirror_mode": {
    "name": "ipython",
    "version": 3
   },
   "file_extension": ".py",
   "mimetype": "text/x-python",
   "name": "python",
   "nbconvert_exporter": "python",
   "pygments_lexer": "ipython3",
   "version": "3.12.3"
  }
 },
 "nbformat": 4,
 "nbformat_minor": 2
}
