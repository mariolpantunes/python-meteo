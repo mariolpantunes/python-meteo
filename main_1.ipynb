{
 "cells": [
  {
   "cell_type": "markdown",
   "metadata": {},
   "source": [
    "# Python for Meteorology, Oceanography, and Climate\n",
    "\n",
    "## Data Manipulation with Pandas\n",
    "\n",
    "Pandas is a powerful and widely used Python library for data manipulation and analysis. It provides data structures like DataFrames and Series that make it easy to work with structured data. This exposition focuses on key functionalities of Pandas: reading/writing data, cleaning/preprocessing, exploration/analysis, and filtering/sorting/grouping."
   ]
  },
  {
   "cell_type": "code",
   "execution_count": 63,
   "metadata": {},
   "outputs": [],
   "source": [
    "import pandas as pd"
   ]
  },
  {
   "cell_type": "markdown",
   "metadata": {},
   "source": [
    "### Reading and writing data"
   ]
  },
  {
   "cell_type": "code",
   "execution_count": 64,
   "metadata": {},
   "outputs": [
    {
     "name": "stdout",
     "output_type": "stream",
     "text": [
      "      Name  Age      City  Salary\n",
      "0    Alice   25  New York   50000\n",
      "1      Bob   30    London   60000\n",
      "2  Charlie   22     Paris   45000\n",
      "3    David   35     Tokyo   70000\n",
      "4      Eve   28       NaN   55000\n"
     ]
    }
   ],
   "source": [
    "df = pd.read_csv('dataset/data.csv')\n",
    "print(df)"
   ]
  },
  {
   "cell_type": "code",
   "execution_count": 65,
   "metadata": {},
   "outputs": [],
   "source": [
    "df.to_csv('dataset/data_copy.csv', index=False)\n",
    "df.to_excel('dataset/data_copy.xlsx', index=False)"
   ]
  },
  {
   "cell_type": "markdown",
   "metadata": {},
   "source": [
    "### Data cleaning and preprocessing"
   ]
  },
  {
   "cell_type": "code",
   "execution_count": 66,
   "metadata": {},
   "outputs": [
    {
     "name": "stdout",
     "output_type": "stream",
     "text": [
      "\n",
      "Original DataFrame:\n",
      "       Name  Age      City  Salary\n",
      "0    Alice   25  New York   50000\n",
      "1      Bob   30    London   60000\n",
      "2  Charlie   22     Paris   45000\n",
      "3    David   35     Tokyo   70000\n",
      "4      Eve   28       NaN   55000\n"
     ]
    }
   ],
   "source": [
    "df = pd.read_csv('dataset/data.csv')\n",
    "print(\"\\nOriginal DataFrame:\\n\", df)"
   ]
  },
  {
   "cell_type": "code",
   "execution_count": 67,
   "metadata": {},
   "outputs": [
    {
     "name": "stdout",
     "output_type": "stream",
     "text": [
      "\n",
      "DataFrame after filling NaN age:\n",
      "       Name  Age      City  Salary\n",
      "0    Alice   25  New York   50000\n",
      "1      Bob   30    London   60000\n",
      "2  Charlie   22     Paris   45000\n",
      "3    David   35     Tokyo   70000\n",
      "4      Eve   28       NaN   55000\n"
     ]
    }
   ],
   "source": [
    "# Handling Missing Values\n",
    "df['Age'] = df['Age'].fillna(df['Age'].mean()) #fill NaN age with mean age.\n",
    "print(\"\\nDataFrame after filling NaN age:\\n\", df)"
   ]
  },
  {
   "cell_type": "code",
   "execution_count": 68,
   "metadata": {},
   "outputs": [
    {
     "name": "stdout",
     "output_type": "stream",
     "text": [
      "\n",
      "DataFrame after dropping duplicates:\n",
      "       Name  Age      City  Salary\n",
      "0    Alice   25  New York   50000\n",
      "1      Bob   30    London   60000\n",
      "2  Charlie   22     Paris   45000\n",
      "3    David   35     Tokyo   70000\n",
      "4      Eve   28       NaN   55000\n"
     ]
    }
   ],
   "source": [
    "# Removing Duplicates (add a duplicate row to the csv to test)\n",
    "df = df.drop_duplicates()\n",
    "print(\"\\nDataFrame after dropping duplicates:\\n\", df)"
   ]
  },
  {
   "cell_type": "code",
   "execution_count": 69,
   "metadata": {},
   "outputs": [
    {
     "name": "stdout",
     "output_type": "stream",
     "text": [
      "\n",
      "DataFrame with Age as integer:\n",
      "       Name  Age      City  Salary\n",
      "0    Alice   25  New York   50000\n",
      "1      Bob   30    London   60000\n",
      "2  Charlie   22     Paris   45000\n",
      "3    David   35     Tokyo   70000\n",
      "4      Eve   28       NaN   55000\n"
     ]
    }
   ],
   "source": [
    "# Data Type Conversion\n",
    "df['Age'] = df['Age'].astype(int)\n",
    "print(\"\\nDataFrame with Age as integer:\\n\", df)"
   ]
  },
  {
   "cell_type": "code",
   "execution_count": 70,
   "metadata": {},
   "outputs": [
    {
     "name": "stdout",
     "output_type": "stream",
     "text": [
      "\n",
      "DataFrame with lowercase cities:\n",
      "       Name  Age      City  Salary\n",
      "0    Alice   25  new york   50000\n",
      "1      Bob   30    london   60000\n",
      "2  Charlie   22     paris   45000\n",
      "3    David   35     tokyo   70000\n",
      "4      Eve   28       NaN   55000\n"
     ]
    }
   ],
   "source": [
    "# String Manipulation\n",
    "df['City'] = df['City'].str.lower()\n",
    "print(\"\\nDataFrame with lowercase cities:\\n\", df)"
   ]
  },
  {
   "cell_type": "markdown",
   "metadata": {},
   "source": [
    "### Data exploration and analysis (statistical summary)"
   ]
  },
  {
   "cell_type": "code",
   "execution_count": 71,
   "metadata": {},
   "outputs": [
    {
     "name": "stdout",
     "output_type": "stream",
     "text": [
      "<class 'pandas.core.frame.DataFrame'>\n",
      "RangeIndex: 5 entries, 0 to 4\n",
      "Data columns (total 4 columns):\n",
      " #   Column  Non-Null Count  Dtype \n",
      "---  ------  --------------  ----- \n",
      " 0   Name    5 non-null      object\n",
      " 1   Age     5 non-null      int64 \n",
      " 2   City    4 non-null      object\n",
      " 3   Salary  5 non-null      int64 \n",
      "dtypes: int64(2), object(2)\n",
      "memory usage: 292.0+ bytes\n",
      "\n",
      "Basic Information:\n",
      " None\n",
      "\n",
      "Descriptive Statistics:\n",
      "              Age        Salary\n",
      "count   5.000000      5.000000\n",
      "mean   28.000000  56000.000000\n",
      "std     4.949747   9617.692031\n",
      "min    22.000000  45000.000000\n",
      "25%    25.000000  50000.000000\n",
      "50%    28.000000  55000.000000\n",
      "75%    30.000000  60000.000000\n",
      "max    35.000000  70000.000000\n"
     ]
    }
   ],
   "source": [
    "print(\"\\nBasic Information:\\n\", df.info())\n",
    "print(\"\\nDescriptive Statistics:\\n\", df.describe())"
   ]
  },
  {
   "cell_type": "code",
   "execution_count": 72,
   "metadata": {},
   "outputs": [
    {
     "name": "stdout",
     "output_type": "stream",
     "text": [
      "\n",
      "Mean Age: 28.0\n",
      "\n",
      "Median Salary: 55000.0\n",
      "\n",
      "Value Counts of Cities:\n",
      " City\n",
      "new york    1\n",
      "london      1\n",
      "paris       1\n",
      "tokyo       1\n",
      "Name: count, dtype: int64\n",
      "\n",
      "Correlation:\n",
      "              Age    Salary\n",
      "Age     1.000000  0.997791\n",
      "Salary  0.997791  1.000000\n"
     ]
    }
   ],
   "source": [
    "# Statistical Functions\n",
    "print(\"\\nMean Age:\", df['Age'].mean())\n",
    "print(\"\\nMedian Salary:\", df['Salary'].median())\n",
    "print(\"\\nValue Counts of Cities:\\n\", df['City'].value_counts())\n",
    "print(\"\\nCorrelation:\\n\", df.corr(numeric_only=True)) # numeric_only is needed to prevent errors with non-numeric data."
   ]
  },
  {
   "cell_type": "markdown",
   "metadata": {},
   "source": [
    "### Data filtering, sorting, and grouping"
   ]
  },
  {
   "cell_type": "code",
   "execution_count": 73,
   "metadata": {},
   "outputs": [
    {
     "name": "stdout",
     "output_type": "stream",
     "text": [
      "\n",
      "Filtered DataFrame (Age > 25):\n",
      "     Name  Age    City  Salary\n",
      "1    Bob   30  london   60000\n",
      "3  David   35   tokyo   70000\n",
      "4    Eve   28     NaN   55000\n",
      "\n",
      "Filtered DataFrame (City New York and Salary >= 50000):\n",
      "     Name  Age      City  Salary\n",
      "0  Alice   25  new york   50000\n"
     ]
    }
   ],
   "source": [
    "# Filtering\n",
    "filtered_df = df[df['Age'] > 25]\n",
    "print(\"\\nFiltered DataFrame (Age > 25):\\n\", filtered_df)\n",
    "\n",
    "filtered_df2 = df[(df['City'] == 'new york') & (df['Salary'] >= 50000)]\n",
    "print(\"\\nFiltered DataFrame (City New York and Salary >= 50000):\\n\", filtered_df2)"
   ]
  },
  {
   "cell_type": "code",
   "execution_count": 74,
   "metadata": {},
   "outputs": [
    {
     "name": "stdout",
     "output_type": "stream",
     "text": [
      "\n",
      "Sorted DataFrame (Age descending):\n",
      "       Name  Age      City  Salary\n",
      "3    David   35     tokyo   70000\n",
      "1      Bob   30    london   60000\n",
      "4      Eve   28       NaN   55000\n",
      "0    Alice   25  new york   50000\n",
      "2  Charlie   22     paris   45000\n"
     ]
    }
   ],
   "source": [
    "# Sorting\n",
    "sorted_df = df.sort_values(by='Age', ascending=False)\n",
    "print(\"\\nSorted DataFrame (Age descending):\\n\", sorted_df)"
   ]
  },
  {
   "cell_type": "code",
   "execution_count": 75,
   "metadata": {},
   "outputs": [
    {
     "name": "stdout",
     "output_type": "stream",
     "text": [
      "\n",
      "Average Salary by City:\n",
      " City\n",
      "london      60000.0\n",
      "new york    50000.0\n",
      "paris       45000.0\n",
      "tokyo       70000.0\n",
      "Name: Salary, dtype: float64\n",
      "\n",
      "Aggregated Data by City:\n",
      "            Salary          Age\n",
      "             mean    sum  mean\n",
      "City                          \n",
      "london    60000.0  60000  30.0\n",
      "new york  50000.0  50000  25.0\n",
      "paris     45000.0  45000  22.0\n",
      "tokyo     70000.0  70000  35.0\n"
     ]
    }
   ],
   "source": [
    "# Grouping\n",
    "grouped_df = df.groupby('City')['Salary'].mean()\n",
    "print(\"\\nAverage Salary by City:\\n\", grouped_df)\n",
    "\n",
    "grouped_df2 = df.groupby('City').agg({'Salary': ['mean', 'sum'], 'Age': 'mean'})\n",
    "print(\"\\nAggregated Data by City:\\n\", grouped_df2)"
   ]
  },
  {
   "cell_type": "code",
   "execution_count": 76,
   "metadata": {},
   "outputs": [
    {
     "name": "stdout",
     "output_type": "stream",
     "text": [
      "\n",
      "Top 2 Salaries per city:\n",
      "                Name  Age  Salary\n",
      "City                            \n",
      "london   1      Bob   30   60000\n",
      "new york 0    Alice   25   50000\n",
      "paris    2  Charlie   22   45000\n",
      "tokyo    3    David   35   70000\n"
     ]
    }
   ],
   "source": [
    "#applying a function to each group.\n",
    "def top_n(dataframe, column, n=2):\n",
    "    return dataframe.sort_values(by=column, ascending=False)[:n]\n",
    "\n",
    "top_salaries = df.groupby('City').apply(top_n, column='Salary', include_groups=False)\n",
    "print(\"\\nTop 2 Salaries per city:\\n\", top_salaries)"
   ]
  }
 ],
 "metadata": {
  "kernelspec": {
   "display_name": "venv",
   "language": "python",
   "name": "python3"
  },
  "language_info": {
   "codemirror_mode": {
    "name": "ipython",
    "version": 3
   },
   "file_extension": ".py",
   "mimetype": "text/x-python",
   "name": "python",
   "nbconvert_exporter": "python",
   "pygments_lexer": "ipython3",
   "version": "3.12.3"
  }
 },
 "nbformat": 4,
 "nbformat_minor": 2
}
