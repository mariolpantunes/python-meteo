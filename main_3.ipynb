{
 "cells": [
  {
   "cell_type": "markdown",
   "metadata": {},
   "source": [
    "# Python for Meteorology, Oceanography, and Climate\n",
    "\n",
    "## Numerical Analysis with NumPy:"
   ]
  },
  {
   "cell_type": "code",
   "execution_count": 2,
   "metadata": {},
   "outputs": [],
   "source": [
    "import numpy as np\n",
    "import pandas as pd"
   ]
  },
  {
   "cell_type": "markdown",
   "metadata": {},
   "source": [
    "### Array operations (creation, indexing, slicing)"
   ]
  },
  {
   "cell_type": "code",
   "execution_count": 3,
   "metadata": {},
   "outputs": [
    {
     "data": {
      "text/html": [
       "<div>\n",
       "<style scoped>\n",
       "    .dataframe tbody tr th:only-of-type {\n",
       "        vertical-align: middle;\n",
       "    }\n",
       "\n",
       "    .dataframe tbody tr th {\n",
       "        vertical-align: top;\n",
       "    }\n",
       "\n",
       "    .dataframe thead th {\n",
       "        text-align: right;\n",
       "    }\n",
       "</style>\n",
       "<table border=\"1\" class=\"dataframe\">\n",
       "  <thead>\n",
       "    <tr style=\"text-align: right;\">\n",
       "      <th></th>\n",
       "      <th>EmployeeID</th>\n",
       "      <th>Age</th>\n",
       "      <th>City</th>\n",
       "      <th>Salary</th>\n",
       "      <th>Experience</th>\n",
       "      <th>Performance</th>\n",
       "      <th>BonusPercentage</th>\n",
       "      <th>DistanceFromOffice</th>\n",
       "    </tr>\n",
       "  </thead>\n",
       "  <tbody>\n",
       "    <tr>\n",
       "      <th>0</th>\n",
       "      <td>1</td>\n",
       "      <td>28</td>\n",
       "      <td>New York</td>\n",
       "      <td>60000</td>\n",
       "      <td>5</td>\n",
       "      <td>88</td>\n",
       "      <td>5.0</td>\n",
       "      <td>15</td>\n",
       "    </tr>\n",
       "    <tr>\n",
       "      <th>1</th>\n",
       "      <td>2</td>\n",
       "      <td>32</td>\n",
       "      <td>London</td>\n",
       "      <td>75000</td>\n",
       "      <td>7</td>\n",
       "      <td>92</td>\n",
       "      <td>7.5</td>\n",
       "      <td>25</td>\n",
       "    </tr>\n",
       "    <tr>\n",
       "      <th>2</th>\n",
       "      <td>3</td>\n",
       "      <td>25</td>\n",
       "      <td>Paris</td>\n",
       "      <td>55000</td>\n",
       "      <td>3</td>\n",
       "      <td>80</td>\n",
       "      <td>3.0</td>\n",
       "      <td>8</td>\n",
       "    </tr>\n",
       "    <tr>\n",
       "      <th>3</th>\n",
       "      <td>4</td>\n",
       "      <td>38</td>\n",
       "      <td>Tokyo</td>\n",
       "      <td>90000</td>\n",
       "      <td>10</td>\n",
       "      <td>95</td>\n",
       "      <td>10.0</td>\n",
       "      <td>30</td>\n",
       "    </tr>\n",
       "    <tr>\n",
       "      <th>4</th>\n",
       "      <td>5</td>\n",
       "      <td>29</td>\n",
       "      <td>New York</td>\n",
       "      <td>65000</td>\n",
       "      <td>6</td>\n",
       "      <td>90</td>\n",
       "      <td>6.0</td>\n",
       "      <td>18</td>\n",
       "    </tr>\n",
       "  </tbody>\n",
       "</table>\n",
       "</div>"
      ],
      "text/plain": [
       "   EmployeeID  Age      City  Salary  Experience  Performance  \\\n",
       "0           1   28  New York   60000           5           88   \n",
       "1           2   32    London   75000           7           92   \n",
       "2           3   25     Paris   55000           3           80   \n",
       "3           4   38     Tokyo   90000          10           95   \n",
       "4           5   29  New York   65000           6           90   \n",
       "\n",
       "   BonusPercentage  DistanceFromOffice  \n",
       "0              5.0                  15  \n",
       "1              7.5                  25  \n",
       "2              3.0                   8  \n",
       "3             10.0                  30  \n",
       "4              6.0                  18  "
      ]
     },
     "execution_count": 3,
     "metadata": {},
     "output_type": "execute_result"
    }
   ],
   "source": [
    "df = pd.read_csv('dataset/data_extended.csv')\n",
    "df.head()"
   ]
  },
  {
   "cell_type": "code",
   "execution_count": 4,
   "metadata": {},
   "outputs": [],
   "source": [
    "# Extract relevant columns as NumPy arrays\n",
    "ages = np.array(df['Age'])\n",
    "salaries = np.array(df['Salary'])\n",
    "experience = np.array(df['Experience'])\n",
    "performance = np.array(df['Performance'])\n",
    "bonus = np.array(df['BonusPercentage'])\n",
    "distance = np.array(df['DistanceFromOffice'])"
   ]
  },
  {
   "cell_type": "code",
   "execution_count": 6,
   "metadata": {},
   "outputs": [
    {
     "name": "stdout",
     "output_type": "stream",
     "text": [
      "Zeros Array: [0. 0. 0. 0. 0.]\n",
      "Ones Array: [1. 1. 1.]\n",
      "Range Array: [10 12 14 16 18]\n",
      "Random Array:\n",
      " [[0.1815091  0.87061182 0.73883749]\n",
      " [0.45447048 0.51965378 0.57631039]]\n"
     ]
    }
   ],
   "source": [
    "# Array Creation\n",
    "zeros_array = np.zeros(5)\n",
    "ones_array = np.ones(3)\n",
    "range_array = np.arange(10, 20, 2)\n",
    "random_array = np.random.rand(2, 3) # 2x3 array of random numbers between 0 and 1.\n",
    "\n",
    "print(\"Zeros Array:\", zeros_array)\n",
    "print(\"Ones Array:\", ones_array)\n",
    "print(\"Range Array:\", range_array)\n",
    "print(\"Random Array:\\n\", random_array)"
   ]
  },
  {
   "cell_type": "code",
   "execution_count": 7,
   "metadata": {},
   "outputs": [
    {
     "name": "stdout",
     "output_type": "stream",
     "text": [
      "First Age: 28\n",
      "Last Salary: 80000\n"
     ]
    }
   ],
   "source": [
    "# Indexing\n",
    "print(\"First Age:\", ages[0])\n",
    "print(\"Last Salary:\", salaries[-1])"
   ]
  },
  {
   "cell_type": "code",
   "execution_count": 8,
   "metadata": {},
   "outputs": [
    {
     "name": "stdout",
     "output_type": "stream",
     "text": [
      "Ages 2 to 4: [32 25 38]\n",
      "Salaries from the beginning to the 3rd element: [60000 75000 55000]\n"
     ]
    }
   ],
   "source": [
    "# Slicing\n",
    "print(\"Ages 2 to 4:\", ages[1:4])\n",
    "print(\"Salaries from the beginning to the 3rd element:\", salaries[:3])\n"
   ]
  },
  {
   "cell_type": "code",
   "execution_count": 9,
   "metadata": {},
   "outputs": [
    {
     "name": "stdout",
     "output_type": "stream",
     "text": [
      "Salaries of High Performers: [75000 90000 78000 95000 80000]\n"
     ]
    }
   ],
   "source": [
    "# Boolean Indexing\n",
    "high_performers = salaries[performance > 90]\n",
    "print(\"Salaries of High Performers:\", high_performers)"
   ]
  },
  {
   "cell_type": "code",
   "execution_count": 11,
   "metadata": {},
   "outputs": [
    {
     "name": "stdout",
     "output_type": "stream",
     "text": [
      "[ 5  7  3 10  6  8  4 12  5  9]\n",
      "Reshaped Experience:\n",
      " [[ 5  7  3 10  6]\n",
      " [ 8  4 12  5  9]]\n"
     ]
    }
   ],
   "source": [
    "# Reshaping\n",
    "print(experience)\n",
    "reshaped_experience = experience.reshape((2, 5)) #Reshapes experience array into a 2x5 matrix\n",
    "print(\"Reshaped Experience:\\n\", reshaped_experience)"
   ]
  },
  {
   "cell_type": "markdown",
   "metadata": {},
   "source": [
    "### Linear algebra operations (matrix multiplication, inversion)"
   ]
  },
  {
   "cell_type": "code",
   "execution_count": 12,
   "metadata": {},
   "outputs": [
    {
     "name": "stdout",
     "output_type": "stream",
     "text": [
      "Matrix Multiplication Result:\n",
      " [[19 22]\n",
      " [43 50]]\n"
     ]
    }
   ],
   "source": [
    "# Matrix Multiplication\n",
    "matrix_a = np.array([[1, 2], [3, 4]])\n",
    "matrix_b = np.array([[5, 6], [7, 8]])\n",
    "result_matrix = np.matmul(matrix_a, matrix_b)\n",
    "print(\"Matrix Multiplication Result:\\n\", result_matrix)"
   ]
  },
  {
   "cell_type": "code",
   "execution_count": 13,
   "metadata": {},
   "outputs": [
    {
     "name": "stdout",
     "output_type": "stream",
     "text": [
      "Inverse Matrix:\n",
      " [[ 3. -1.]\n",
      " [-5.  2.]]\n"
     ]
    }
   ],
   "source": [
    "# Matrix Inversion (create a matrix that is invertable)\n",
    "invertable_matrix = np.array([[2, 1], [5, 3]])\n",
    "try:\n",
    "    inverse_matrix = np.linalg.inv(invertable_matrix)\n",
    "    print('Inverse Matrix:\\n', inverse_matrix)\n",
    "except np.linalg.LinAlgError:\n",
    "    print('Matrix is not invertible.')"
   ]
  },
  {
   "cell_type": "code",
   "execution_count": 14,
   "metadata": {},
   "outputs": [
    {
     "name": "stdout",
     "output_type": "stream",
     "text": [
      "Solution of Linear Equations:\n",
      " [ 1. -1.]\n"
     ]
    }
   ],
   "source": [
    "# Solving Linear Equations\n",
    "coefficients = np.array([[2, 1], [5, 3]])\n",
    "constants = np.array([1, 2])\n",
    "solution = np.linalg.solve(coefficients, constants)\n",
    "print(\"Solution of Linear Equations:\\n\", solution)"
   ]
  },
  {
   "cell_type": "markdown",
   "metadata": {},
   "source": [
    "### Numerical integration and differentiation"
   ]
  },
  {
   "cell_type": "code",
   "execution_count": 16,
   "metadata": {},
   "outputs": [
    {
     "name": "stdout",
     "output_type": "stream",
     "text": [
      "Numerical Integration (Age Function): 1612.505739210285\n",
      "Numerical Differentiation (Salary vs. Experience):\n",
      " [ 7500. -1250.  3750.  2500. -3000. -1750.  4250.  1000. -3750.  9000.]\n"
     ]
    }
   ],
   "source": [
    "# Example function: f(x) = x^2 / 10 (using age as x)\n",
    "def f(x):\n",
    "    return x**2 / 10\n",
    "\n",
    "age_integration_x = np.linspace(ages.min(), ages.max(), 100)\n",
    "age_integration_y = f(age_integration_x)\n",
    "age_integral = np.trapezoid(age_integration_y, age_integration_x)\n",
    "print(\"Numerical Integration (Age Function):\", age_integral)\n",
    "\n",
    "# Numerical Differentiation (example: rate of change of salary with respect to experience)\n",
    "dx = experience[1] - experience[0]\n",
    "salary_derivative = np.gradient(salaries, dx)\n",
    "print(\"Numerical Differentiation (Salary vs. Experience):\\n\", salary_derivative)"
   ]
  },
  {
   "cell_type": "code",
   "execution_count": 17,
   "metadata": {},
   "outputs": [
    {
     "name": "stdout",
     "output_type": "stream",
     "text": [
      "\n",
      "Integral of g(x): 1.3152640438205485\n",
      "\n",
      "Derivative of g(x) first 5: [0.99456878 0.9883343  0.97468184 0.958693   0.94043173]\n"
     ]
    }
   ],
   "source": [
    "#Example with a different function.\n",
    "def g(x):\n",
    "  return np.sin(x) * np.exp(-x/10)\n",
    "\n",
    "x_vals2 = np.linspace(0, 10, 200)\n",
    "y_vals2 = g(x_vals2)\n",
    "integral_result2 = np.trapezoid(y_vals2, x_vals2)\n",
    "derivative_result2 = np.gradient(y_vals2, x_vals2[1] - x_vals2[0])\n",
    "\n",
    "print(\"\\nIntegral of g(x):\", integral_result2)\n",
    "print(\"\\nDerivative of g(x) first 5:\", derivative_result2[:5])"
   ]
  },
  {
   "cell_type": "markdown",
   "metadata": {},
   "source": [
    "### Advanced Example JAX"
   ]
  },
  {
   "cell_type": "code",
   "execution_count": 21,
   "metadata": {},
   "outputs": [
    {
     "name": "stdout",
     "output_type": "stream",
     "text": [
      "Weights: [10144.317    2202.6875   -611.4849   -178.81647  1500.8699    131.59868]\n",
      "Predicted Salary: 68099.75\n",
      "Predicted Salaries for all employees:\n",
      " [62504.63  74445.31  54627.133 89700.69  65633.87  76213.33  57624.773\n",
      " 96364.01  61720.426 79165.74 ]\n",
      "Mean Absolute Error (MAE): 900.5102\n"
     ]
    }
   ],
   "source": [
    "import jax\n",
    "import jax.numpy as jnp\n",
    "import pandas as pd\n",
    "\n",
    "# Extract features and target variable\n",
    "features = jnp.array(df[['Age', 'Experience', 'Performance', 'BonusPercentage', 'DistanceFromOffice']])\n",
    "target = jnp.array(df['Salary'])\n",
    "\n",
    "# Add a bias term (intercept)\n",
    "features = jnp.concatenate([jnp.ones((features.shape[0], 1)), features], axis=1)\n",
    "\n",
    "# Linear regression function using JAX\n",
    "def linear_regression(features, target):\n",
    "    \"\"\"Computes linear regression using JAX.\"\"\"\n",
    "    weights = jnp.linalg.lstsq(features, target)[0]\n",
    "    return weights\n",
    "\n",
    "# Calculate the weights\n",
    "weights = linear_regression(features, target)\n",
    "\n",
    "# Print the weights\n",
    "print(\"Weights:\", weights)\n",
    "\n",
    "# Function to predict salary\n",
    "def predict_salary(features, weights):\n",
    "    \"\"\"Predicts salary using the learned weights.\"\"\"\n",
    "    features = jnp.concatenate([jnp.ones((features.shape[0], 1)), features], axis=1) # add bias term\n",
    "    return jnp.dot(features, weights)\n",
    "\n",
    "# Example prediction for a new employee\n",
    "new_employee = jnp.array([[30, 6, 90, 6.0, 20]])  # Example features\n",
    "predicted_salary = predict_salary(new_employee, weights)\n",
    "print(\"Predicted Salary:\", predicted_salary[0])\n",
    "\n",
    "# Example prediction for all employees in the dataset.\n",
    "all_predictions = predict_salary(features[:, 1:], weights) #features[:,1:] to avoid the bias column.\n",
    "print(\"Predicted Salaries for all employees:\\n\", all_predictions)\n",
    "\n",
    "# Compute Mean Absolute Error (MAE)\n",
    "def calculate_mae(predictions, actual):\n",
    "    \"\"\"Calculates the Mean Absolute Error.\"\"\"\n",
    "    return jnp.mean(jnp.abs(predictions - actual))\n",
    "\n",
    "mae = calculate_mae(all_predictions, target)\n",
    "print(\"Mean Absolute Error (MAE):\", mae)"
   ]
  }
 ],
 "metadata": {
  "kernelspec": {
   "display_name": "venv",
   "language": "python",
   "name": "python3"
  },
  "language_info": {
   "codemirror_mode": {
    "name": "ipython",
    "version": 3
   },
   "file_extension": ".py",
   "mimetype": "text/x-python",
   "name": "python",
   "nbconvert_exporter": "python",
   "pygments_lexer": "ipython3",
   "version": "3.12.3"
  }
 },
 "nbformat": 4,
 "nbformat_minor": 2
}
